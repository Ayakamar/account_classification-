{
  "nbformat": 4,
  "nbformat_minor": 0,
  "metadata": {
    "colab": {
      "provenance": [],
      "gpuType": "T4"
    },
    "kernelspec": {
      "name": "python3",
      "display_name": "Python 3"
    },
    "language_info": {
      "name": "python"
    },
    "accelerator": "GPU"
  },
  "cells": [
    {
      "cell_type": "markdown",
      "source": [
        "# data preprocessing"
      ],
      "metadata": {
        "id": "l8lMD1yxLmsc"
      }
    },
    {
      "cell_type": "code",
      "source": [
        "!pip install -q imbalanced-learn"
      ],
      "metadata": {
        "id": "Waj0Wpv9Qxap"
      },
      "execution_count": 5,
      "outputs": []
    },
    {
      "cell_type": "markdown",
      "source": [
        "# import libraries"
      ],
      "metadata": {
        "id": "le1Xj-y5Q23Q"
      }
    },
    {
      "cell_type": "code",
      "execution_count": 24,
      "metadata": {
        "id": "a7v7_gF8hBrS"
      },
      "outputs": [],
      "source": [
        "import pandas as pd\n",
        "import numpy as np\n",
        "import joblib\n",
        "import matplotlib.pyplot as plt\n",
        "import seaborn as sns\n",
        "from imblearn.over_sampling import SMOTE\n",
        "from sklearn.model_selection import train_test_split\n",
        "from sklearn.ensemble import RandomForestClassifier\n",
        "from sklearn.metrics import classification_report, confusion_matrix, accuracy_score\n",
        "import tensorflow as tf\n",
        "from tensorflow.keras.models import Sequential\n",
        "from tensorflow.keras.layers import Dense, Dropout\n",
        "from sklearn.preprocessing import StandardScaler\n",
        "from tensorflow.keras.models import load_model\n"
      ]
    },
    {
      "cell_type": "code",
      "source": [
        "# load data\n",
        "df = pd.read_csv('/content/final-v1.csv')\n",
        "\n",
        "# Display basic info and first few rows\n",
        "df.info(), df.head()"
      ],
      "metadata": {
        "colab": {
          "base_uri": "https://localhost:8080/"
        },
        "id": "I9P4JIueL9Wm",
        "outputId": "552dff03-3da3-45ef-e9f5-5c21caad8052"
      },
      "execution_count": 3,
      "outputs": [
        {
          "output_type": "stream",
          "name": "stdout",
          "text": [
            "<class 'pandas.core.frame.DataFrame'>\n",
            "RangeIndex: 785 entries, 0 to 784\n",
            "Data columns (total 13 columns):\n",
            " #   Column                Non-Null Count  Dtype  \n",
            "---  ------                --------------  -----  \n",
            " 0   edge_followed_by      785 non-null    float64\n",
            " 1   edge_follow           785 non-null    float64\n",
            " 2   username_length       785 non-null    int64  \n",
            " 3   username_has_number   785 non-null    int64  \n",
            " 4   full_name_has_number  785 non-null    int64  \n",
            " 5   full_name_length      785 non-null    int64  \n",
            " 6   is_private            785 non-null    int64  \n",
            " 7   is_joined_recently    785 non-null    int64  \n",
            " 8   has_channel           785 non-null    int64  \n",
            " 9   is_business_account   785 non-null    int64  \n",
            " 10  has_guides            785 non-null    int64  \n",
            " 11  has_external_url      785 non-null    int64  \n",
            " 12  is_fake               785 non-null    int64  \n",
            "dtypes: float64(2), int64(11)\n",
            "memory usage: 79.9 KB\n"
          ]
        },
        {
          "output_type": "execute_result",
          "data": {
            "text/plain": [
              "(None,\n",
              "    edge_followed_by  edge_follow  username_length  username_has_number  \\\n",
              " 0             0.001        0.257               13                    1   \n",
              " 1             0.000        0.958                9                    1   \n",
              " 2             0.000        0.253               12                    0   \n",
              " 3             0.000        0.977               10                    1   \n",
              " 4             0.000        0.321               11                    0   \n",
              " \n",
              "    full_name_has_number  full_name_length  is_private  is_joined_recently  \\\n",
              " 0                     1                13           0                   0   \n",
              " 1                     0                 0           0                   1   \n",
              " 2                     0                 0           0                   0   \n",
              " 3                     0                 0           0                   0   \n",
              " 4                     0                11           1                   0   \n",
              " \n",
              "    has_channel  is_business_account  has_guides  has_external_url  is_fake  \n",
              " 0            0                    0           0                 0        1  \n",
              " 1            0                    0           0                 0        1  \n",
              " 2            0                    0           0                 0        1  \n",
              " 3            0                    0           0                 0        1  \n",
              " 4            0                    0           0                 0        1  )"
            ]
          },
          "metadata": {},
          "execution_count": 3
        }
      ]
    },
    {
      "cell_type": "code",
      "source": [
        "# Check class balance\n",
        "class_counts = df['is_fake'].value_counts()\n",
        "\n",
        "# Plot class distribution\n",
        "plt.figure(figsize=(6, 4))\n",
        "sns.barplot(x=class_counts.index, y=class_counts.values, palette=\"Set2\")\n",
        "plt.title(\"Distribution of Fake vs Real Accounts\")\n",
        "plt.xlabel(\"is_fake (1 = Fake, 0 = Real)\")\n",
        "plt.ylabel(\"Count\")\n",
        "plt.xticks([0, 1], [\"Real (0)\", \"Fake (1)\"])\n",
        "plt.grid(axis='y')\n",
        "plt.tight_layout()\n",
        "plt.show()\n",
        "\n",
        "# Show class counts for decision-making\n",
        "class_counts.to_dict()"
      ],
      "metadata": {
        "colab": {
          "base_uri": "https://localhost:8080/",
          "height": 531
        },
        "id": "SNyFYOSTMTBN",
        "outputId": "fc903553-f9de-4ece-cc1e-d0d86cf6a984"
      },
      "execution_count": 4,
      "outputs": [
        {
          "output_type": "stream",
          "name": "stderr",
          "text": [
            "/tmp/ipython-input-4-1383300163.py:6: FutureWarning: \n",
            "\n",
            "Passing `palette` without assigning `hue` is deprecated and will be removed in v0.14.0. Assign the `x` variable to `hue` and set `legend=False` for the same effect.\n",
            "\n",
            "  sns.barplot(x=class_counts.index, y=class_counts.values, palette=\"Set2\")\n"
          ]
        },
        {
          "output_type": "display_data",
          "data": {
            "text/plain": [
              "<Figure size 600x400 with 1 Axes>"
            ],
            "image/png": "[encoded data removed]"
          },
          "metadata": {}
        },
        {
          "output_type": "execute_result",
          "data": {
            "text/plain": [
              "{1: 692, 0: 93}"
            ]
          },
          "metadata": {},
          "execution_count": 4
        }
      ]
    },
    {
      "cell_type": "markdown",
      "source": [
        "# Data Augmentation"
      ],
      "metadata": {
        "id": "Zih5k_r_Qjrn"
      }
    },
    {
      "cell_type": "code",
      "source": [
        "# Separate features and target\n",
        "X = df.drop(columns=['is_fake'])\n",
        "y = df['is_fake']\n",
        "\n",
        "# Apply SMOTE to balance classes (focus on minority class = real accounts)\n",
        "smote = SMOTE(random_state=42)\n",
        "X_smote, y_smote = smote.fit_resample(X, y)\n",
        "\n",
        "# Combine the new dataset\n",
        "smote_df = pd.DataFrame(X_smote, columns=X.columns)\n",
        "smote_df[\"is_fake\"] = y_smote\n",
        "\n",
        "# Check the new class distribution\n",
        "smote_df.shape, smote_df['is_fake'].value_counts().to_dict()"
      ],
      "metadata": {
        "colab": {
          "base_uri": "https://localhost:8080/"
        },
        "id": "snrEkBdiQqCr",
        "outputId": "5bbc0a06-1e2d-4cf5-e539-565be7fe7205"
      },
      "execution_count": 8,
      "outputs": [
        {
          "output_type": "execute_result",
          "data": {
            "text/plain": [
              "((1384, 13), {1: 692, 0: 692})"
            ]
          },
          "metadata": {},
          "execution_count": 8
        }
      ]
    },
    {
      "cell_type": "code",
      "source": [
        "# Check class balance\n",
        "class_counts = smote_df['is_fake'].value_counts()\n",
        "\n",
        "# Plot class distribution\n",
        "plt.figure(figsize=(6, 4))\n",
        "sns.barplot(x=class_counts.index, y=class_counts.values, palette=\"Set2\")\n",
        "plt.title(\"Distribution of Fake vs Real Accounts\")\n",
        "plt.xlabel(\"is_fake (1 = Fake, 0 = Real)\")\n",
        "plt.ylabel(\"Count\")\n",
        "plt.xticks([0, 1], [\"Real (0)\", \"Fake (1)\"])\n",
        "plt.grid(axis='y')\n",
        "plt.tight_layout()\n",
        "plt.show()\n",
        "\n",
        "# Show class counts for decision-making\n",
        "class_counts.to_dict()"
      ],
      "metadata": {
        "colab": {
          "base_uri": "https://localhost:8080/",
          "height": 531
        },
        "id": "BjiNfPlHMlBf",
        "outputId": "22f104a6-43a6-4807-8bce-def974244408"
      },
      "execution_count": 10,
      "outputs": [
        {
          "output_type": "stream",
          "name": "stderr",
          "text": [
            "/tmp/ipython-input-10-3429340617.py:6: FutureWarning: \n",
            "\n",
            "Passing `palette` without assigning `hue` is deprecated and will be removed in v0.14.0. Assign the `x` variable to `hue` and set `legend=False` for the same effect.\n",
            "\n",
            "  sns.barplot(x=class_counts.index, y=class_counts.values, palette=\"Set2\")\n"
          ]
        },
        {
          "output_type": "display_data",
          "data": {
            "text/plain": [
              "<Figure size 600x400 with 1 Axes>"
            ],
            "image/png": "[encoded data removed]"
          },
          "metadata": {}
        },
        {
          "output_type": "execute_result",
          "data": {
            "text/plain": [
              "{1: 692, 0: 692}"
            ]
          },
          "metadata": {},
          "execution_count": 10
        }
      ]
    },
    {
      "cell_type": "markdown",
      "source": [
        "# Split Dataset into Train, Validation, and Test"
      ],
      "metadata": {
        "id": "txdRquPcR1H5"
      }
    },
    {
      "cell_type": "code",
      "source": [
        "# Step 1: Separate features (X) and target label (y)\n",
        "X = smote_df.drop(columns=[\"is_fake\"])\n",
        "y = smote_df[\"is_fake\"]\n",
        "\n",
        "# Step 2: First split — 60% train, 40% temporary (val + test)\n",
        "X_train, X_temp, y_train, y_temp = train_test_split(\n",
        "    X, y, test_size=0.4, random_state=42, stratify=y\n",
        ")\n",
        "\n",
        "# Step 3: Second split — split the temporary 40% into 50/50 = 20% val, 20% test\n",
        "X_val, X_test, y_val, y_test = train_test_split(\n",
        "    X_temp, y_temp, test_size=0.5, random_state=42, stratify=y_temp\n",
        ")\n"
      ],
      "metadata": {
        "id": "jWWLScEXRncz"
      },
      "execution_count": 12,
      "outputs": []
    },
    {
      "cell_type": "markdown",
      "source": [
        "# Train a Random Forest Model"
      ],
      "metadata": {
        "id": "afEANYhWTf13"
      }
    },
    {
      "cell_type": "code",
      "source": [
        "#  Train the model\n",
        "rf_model = RandomForestClassifier(n_estimators=100, random_state=42)\n",
        "rf_model.fit(X_train, y_train)\n",
        "\n",
        "# Validate on validation set\n",
        "val_preds = rf_model.predict(X_val)\n",
        "print(\"Validation Performance:\")\n",
        "print(\"Accuracy:\", accuracy_score(y_val, val_preds))\n",
        "print(\"\\nClassification Report:\\n\", classification_report(y_val, val_preds))\n",
        "\n",
        "# Final evaluation on test set\n",
        "test_preds = rf_model.predict(X_test)\n",
        "print(\"\\nTest Set Performance:\")\n",
        "print(\"Accuracy:\", accuracy_score(y_test, test_preds))\n",
        "print(\"\\nConfusion Matrix:\\n\", confusion_matrix(y_test, test_preds))"
      ],
      "metadata": {
        "colab": {
          "base_uri": "https://localhost:8080/"
        },
        "id": "f-PsGubmTWyr",
        "outputId": "fc8fa22c-b9bf-4392-c251-e28ba7c8d1f3"
      },
      "execution_count": 15,
      "outputs": [
        {
          "output_type": "stream",
          "name": "stdout",
          "text": [
            "Validation Performance:\n",
            "Accuracy: 0.9819494584837545\n",
            "\n",
            "Classification Report:\n",
            "               precision    recall  f1-score   support\n",
            "\n",
            "           0       0.97      0.99      0.98       138\n",
            "           1       0.99      0.97      0.98       139\n",
            "\n",
            "    accuracy                           0.98       277\n",
            "   macro avg       0.98      0.98      0.98       277\n",
            "weighted avg       0.98      0.98      0.98       277\n",
            "\n",
            "\n",
            "Test Set Performance:\n",
            "Accuracy: 0.9566787003610109\n",
            "\n",
            "Confusion Matrix:\n",
            " [[138   1]\n",
            " [ 11 127]]\n"
          ]
        }
      ]
    },
    {
      "cell_type": "markdown",
      "source": [
        "#Build Neural Network with Keras"
      ],
      "metadata": {
        "id": "DbPatkgRUIIe"
      }
    },
    {
      "cell_type": "code",
      "source": [
        "#  Normalize features\n",
        "scaler = StandardScaler()\n",
        "X_train_scaled = scaler.fit_transform(X_train)\n",
        "X_val_scaled = scaler.transform(X_val)\n",
        "X_test_scaled = scaler.transform(X_test)\n",
        "\n",
        "# Build the model\n",
        "model = Sequential([\n",
        "    Dense(64, activation='relu', input_shape=(X_train.shape[1],)),\n",
        "    Dropout(0.3),\n",
        "    Dense(32, activation='relu'),\n",
        "    Dropout(0.3),\n",
        "    Dense(1, activation='sigmoid')  # Binary classification\n",
        "])\n",
        "\n",
        "# Compile the model\n",
        "model.compile(\n",
        "    optimizer='adam',\n",
        "    loss='binary_crossentropy',\n",
        "    metrics=['accuracy']\n",
        ")\n",
        "\n",
        "# Train the model\n",
        "history = model.fit(\n",
        "    X_train_scaled, y_train,\n",
        "    validation_data=(X_val_scaled, y_val),\n",
        "    epochs=30,\n",
        "    batch_size=32,\n",
        "    verbose=1\n",
        ")"
      ],
      "metadata": {
        "colab": {
          "base_uri": "https://localhost:8080/"
        },
        "id": "PmrwD7RJT3lp",
        "outputId": "982f1322-3341-4133-9b3b-4c8baf780486"
      },
      "execution_count": 17,
      "outputs": [
        {
          "output_type": "stream",
          "name": "stderr",
          "text": [
            "/usr/local/lib/python3.11/dist-packages/keras/src/layers/core/dense.py:87: UserWarning: Do not pass an `input_shape`/`input_dim` argument to a layer. When using Sequential models, prefer using an `Input(shape)` object as the first layer in the model instead.\n",
            "  super().__init__(activity_regularizer=activity_regularizer, **kwargs)\n"
          ]
        },
        {
          "output_type": "stream",
          "name": "stdout",
          "text": [
            "Epoch 1/30\n",
            "\u001b[1m26/26\u001b[0m \u001b[32m━━━━━━━━━━━━━━━━━━━━\u001b[0m\u001b[37m\u001b[0m \u001b[1m5s\u001b[0m 88ms/step - accuracy: 0.5001 - loss: 0.7235 - val_accuracy: 0.8881 - val_loss: 0.5207\n",
            "Epoch 2/30\n",
            "\u001b[1m26/26\u001b[0m \u001b[32m━━━━━━━━━━━━━━━━━━━━\u001b[0m\u001b[37m\u001b[0m \u001b[1m0s\u001b[0m 6ms/step - accuracy: 0.8168 - loss: 0.5223 - val_accuracy: 0.9206 - val_loss: 0.3639\n",
            "Epoch 3/30\n",
            "\u001b[1m26/26\u001b[0m \u001b[32m━━━━━━━━━━━━━━━━━━━━\u001b[0m\u001b[37m\u001b[0m \u001b[1m0s\u001b[0m 5ms/step - accuracy: 0.8868 - loss: 0.3882 - val_accuracy: 0.9170 - val_loss: 0.2688\n",
            "Epoch 4/30\n",
            "\u001b[1m26/26\u001b[0m \u001b[32m━━━━━━━━━━━━━━━━━━━━\u001b[0m\u001b[37m\u001b[0m \u001b[1m0s\u001b[0m 7ms/step - accuracy: 0.9038 - loss: 0.3026 - val_accuracy: 0.9097 - val_loss: 0.2254\n",
            "Epoch 5/30\n",
            "\u001b[1m26/26\u001b[0m \u001b[32m━━━━━━━━━━━━━━━━━━━━\u001b[0m\u001b[37m\u001b[0m \u001b[1m0s\u001b[0m 8ms/step - accuracy: 0.8833 - loss: 0.2968 - val_accuracy: 0.9170 - val_loss: 0.2051\n",
            "Epoch 6/30\n",
            "\u001b[1m26/26\u001b[0m \u001b[32m━━━━━━━━━━━━━━━━━━━━\u001b[0m\u001b[37m\u001b[0m \u001b[1m0s\u001b[0m 7ms/step - accuracy: 0.8911 - loss: 0.2611 - val_accuracy: 0.9206 - val_loss: 0.1949\n",
            "Epoch 7/30\n",
            "\u001b[1m26/26\u001b[0m \u001b[32m━━━━━━━━━━━━━━━━━━━━\u001b[0m\u001b[37m\u001b[0m \u001b[1m0s\u001b[0m 7ms/step - accuracy: 0.9069 - loss: 0.2510 - val_accuracy: 0.9278 - val_loss: 0.1898\n",
            "Epoch 8/30\n",
            "\u001b[1m26/26\u001b[0m \u001b[32m━━━━━━━━━━━━━━━━━━━━\u001b[0m\u001b[37m\u001b[0m \u001b[1m0s\u001b[0m 7ms/step - accuracy: 0.9073 - loss: 0.2310 - val_accuracy: 0.9314 - val_loss: 0.1872\n",
            "Epoch 9/30\n",
            "\u001b[1m26/26\u001b[0m \u001b[32m━━━━━━━━━━━━━━━━━━━━\u001b[0m\u001b[37m\u001b[0m \u001b[1m0s\u001b[0m 8ms/step - accuracy: 0.9136 - loss: 0.2319 - val_accuracy: 0.9278 - val_loss: 0.1841\n",
            "Epoch 10/30\n",
            "\u001b[1m26/26\u001b[0m \u001b[32m━━━━━━━━━━━━━━━━━━━━\u001b[0m\u001b[37m\u001b[0m \u001b[1m0s\u001b[0m 8ms/step - accuracy: 0.9038 - loss: 0.2241 - val_accuracy: 0.9278 - val_loss: 0.1819\n",
            "Epoch 11/30\n",
            "\u001b[1m26/26\u001b[0m \u001b[32m━━━━━━━━━━━━━━━━━━━━\u001b[0m\u001b[37m\u001b[0m \u001b[1m0s\u001b[0m 7ms/step - accuracy: 0.8955 - loss: 0.2452 - val_accuracy: 0.9314 - val_loss: 0.1821\n",
            "Epoch 12/30\n",
            "\u001b[1m26/26\u001b[0m \u001b[32m━━━━━━━━━━━━━━━━━━━━\u001b[0m\u001b[37m\u001b[0m \u001b[1m0s\u001b[0m 5ms/step - accuracy: 0.9062 - loss: 0.2217 - val_accuracy: 0.9314 - val_loss: 0.1796\n",
            "Epoch 13/30\n",
            "\u001b[1m26/26\u001b[0m \u001b[32m━━━━━━━━━━━━━━━━━━━━\u001b[0m\u001b[37m\u001b[0m \u001b[1m0s\u001b[0m 5ms/step - accuracy: 0.9148 - loss: 0.1931 - val_accuracy: 0.9278 - val_loss: 0.1775\n",
            "Epoch 14/30\n",
            "\u001b[1m26/26\u001b[0m \u001b[32m━━━━━━━━━━━━━━━━━━━━\u001b[0m\u001b[37m\u001b[0m \u001b[1m0s\u001b[0m 5ms/step - accuracy: 0.9336 - loss: 0.2171 - val_accuracy: 0.9350 - val_loss: 0.1776\n",
            "Epoch 15/30\n",
            "\u001b[1m26/26\u001b[0m \u001b[32m━━━━━━━━━━━━━━━━━━━━\u001b[0m\u001b[37m\u001b[0m \u001b[1m0s\u001b[0m 6ms/step - accuracy: 0.9113 - loss: 0.2221 - val_accuracy: 0.9350 - val_loss: 0.1760\n",
            "Epoch 16/30\n",
            "\u001b[1m26/26\u001b[0m \u001b[32m━━━━━━━━━━━━━━━━━━━━\u001b[0m\u001b[37m\u001b[0m \u001b[1m0s\u001b[0m 5ms/step - accuracy: 0.9165 - loss: 0.2044 - val_accuracy: 0.9350 - val_loss: 0.1746\n",
            "Epoch 17/30\n",
            "\u001b[1m26/26\u001b[0m \u001b[32m━━━━━━━━━━━━━━━━━━━━\u001b[0m\u001b[37m\u001b[0m \u001b[1m0s\u001b[0m 5ms/step - accuracy: 0.9190 - loss: 0.2032 - val_accuracy: 0.9350 - val_loss: 0.1732\n",
            "Epoch 18/30\n",
            "\u001b[1m26/26\u001b[0m \u001b[32m━━━━━━━━━━━━━━━━━━━━\u001b[0m\u001b[37m\u001b[0m \u001b[1m0s\u001b[0m 5ms/step - accuracy: 0.9134 - loss: 0.2175 - val_accuracy: 0.9350 - val_loss: 0.1725\n",
            "Epoch 19/30\n",
            "\u001b[1m26/26\u001b[0m \u001b[32m━━━━━━━━━━━━━━━━━━━━\u001b[0m\u001b[37m\u001b[0m \u001b[1m0s\u001b[0m 5ms/step - accuracy: 0.9167 - loss: 0.1886 - val_accuracy: 0.9350 - val_loss: 0.1704\n",
            "Epoch 20/30\n",
            "\u001b[1m26/26\u001b[0m \u001b[32m━━━━━━━━━━━━━━━━━━━━\u001b[0m\u001b[37m\u001b[0m \u001b[1m0s\u001b[0m 6ms/step - accuracy: 0.9340 - loss: 0.1832 - val_accuracy: 0.9386 - val_loss: 0.1697\n",
            "Epoch 21/30\n",
            "\u001b[1m26/26\u001b[0m \u001b[32m━━━━━━━━━━━━━━━━━━━━\u001b[0m\u001b[37m\u001b[0m \u001b[1m0s\u001b[0m 5ms/step - accuracy: 0.9430 - loss: 0.1827 - val_accuracy: 0.9350 - val_loss: 0.1693\n",
            "Epoch 22/30\n",
            "\u001b[1m26/26\u001b[0m \u001b[32m━━━━━━━━━━━━━━━━━━━━\u001b[0m\u001b[37m\u001b[0m \u001b[1m0s\u001b[0m 5ms/step - accuracy: 0.9228 - loss: 0.2010 - val_accuracy: 0.9386 - val_loss: 0.1670\n",
            "Epoch 23/30\n",
            "\u001b[1m26/26\u001b[0m \u001b[32m━━━━━━━━━━━━━━━━━━━━\u001b[0m\u001b[37m\u001b[0m \u001b[1m0s\u001b[0m 5ms/step - accuracy: 0.9047 - loss: 0.2306 - val_accuracy: 0.9386 - val_loss: 0.1663\n",
            "Epoch 24/30\n",
            "\u001b[1m26/26\u001b[0m \u001b[32m━━━━━━━━━━━━━━━━━━━━\u001b[0m\u001b[37m\u001b[0m \u001b[1m0s\u001b[0m 5ms/step - accuracy: 0.9332 - loss: 0.1934 - val_accuracy: 0.9386 - val_loss: 0.1640\n",
            "Epoch 25/30\n",
            "\u001b[1m26/26\u001b[0m \u001b[32m━━━━━━━━━━━━━━━━━━━━\u001b[0m\u001b[37m\u001b[0m \u001b[1m0s\u001b[0m 5ms/step - accuracy: 0.9513 - loss: 0.1770 - val_accuracy: 0.9350 - val_loss: 0.1660\n",
            "Epoch 26/30\n",
            "\u001b[1m26/26\u001b[0m \u001b[32m━━━━━━━━━━━━━━━━━━━━\u001b[0m\u001b[37m\u001b[0m \u001b[1m0s\u001b[0m 6ms/step - accuracy: 0.9354 - loss: 0.1921 - val_accuracy: 0.9386 - val_loss: 0.1650\n",
            "Epoch 27/30\n",
            "\u001b[1m26/26\u001b[0m \u001b[32m━━━━━━━━━━━━━━━━━━━━\u001b[0m\u001b[37m\u001b[0m \u001b[1m0s\u001b[0m 5ms/step - accuracy: 0.9269 - loss: 0.1940 - val_accuracy: 0.9386 - val_loss: 0.1667\n",
            "Epoch 28/30\n",
            "\u001b[1m26/26\u001b[0m \u001b[32m━━━━━━━━━━━━━━━━━━━━\u001b[0m\u001b[37m\u001b[0m \u001b[1m0s\u001b[0m 5ms/step - accuracy: 0.9150 - loss: 0.2209 - val_accuracy: 0.9386 - val_loss: 0.1623\n",
            "Epoch 29/30\n",
            "\u001b[1m26/26\u001b[0m \u001b[32m━━━━━━━━━━━━━━━━━━━━\u001b[0m\u001b[37m\u001b[0m \u001b[1m0s\u001b[0m 5ms/step - accuracy: 0.9218 - loss: 0.1780 - val_accuracy: 0.9422 - val_loss: 0.1624\n",
            "Epoch 30/30\n",
            "\u001b[1m26/26\u001b[0m \u001b[32m━━━━━━━━━━━━━━━━━━━━\u001b[0m\u001b[37m\u001b[0m \u001b[1m0s\u001b[0m 5ms/step - accuracy: 0.9228 - loss: 0.1917 - val_accuracy: 0.9422 - val_loss: 0.1626\n"
          ]
        }
      ]
    },
    {
      "cell_type": "markdown",
      "source": [
        "# Evaluate on Test Set"
      ],
      "metadata": {
        "id": "3As2kp-NUglc"
      }
    },
    {
      "cell_type": "code",
      "source": [
        "test_loss, test_accuracy = model.evaluate(X_test_scaled, y_test, verbose=0)\n",
        "print(f\"\\nNeural Network Test Accuracy: {test_accuracy:.4f}\")"
      ],
      "metadata": {
        "colab": {
          "base_uri": "https://localhost:8080/"
        },
        "id": "Jb9FNdnXUZ3D",
        "outputId": "b0a835f2-e794-4cea-dd0c-9d645bdff9dd"
      },
      "execution_count": 18,
      "outputs": [
        {
          "output_type": "stream",
          "name": "stdout",
          "text": [
            "\n",
            "Neural Network Test Accuracy: 0.9314\n"
          ]
        }
      ]
    },
    {
      "cell_type": "markdown",
      "source": [
        "# Plot Accuracy Over Epochs"
      ],
      "metadata": {
        "id": "h5sPdv6NUql7"
      }
    },
    {
      "cell_type": "code",
      "source": [
        "plt.plot(history.history['accuracy'], label='Train Accuracy')\n",
        "plt.plot(history.history['val_accuracy'], label='Validation Accuracy')\n",
        "plt.title('Model Accuracy Over Epochs')\n",
        "plt.xlabel('Epoch')\n",
        "plt.ylabel('Accuracy')\n",
        "plt.legend()\n",
        "plt.grid(True)\n",
        "plt.show()"
      ],
      "metadata": {
        "colab": {
          "base_uri": "https://localhost:8080/",
          "height": 472
        },
        "id": "wu-5MIDiUlvP",
        "outputId": "1cfbfd41-b928-46d5-daa8-9e2c0e000656"
      },
      "execution_count": 19,
      "outputs": [
        {
          "output_type": "display_data",
          "data": {
            "text/plain": [
              "<Figure size 640x480 with 1 Axes>"
            ],
            "image/png": "[encoded data removed]"
          },
          "metadata": {}
        }
      ]
    },
    {
      "cell_type": "markdown",
      "source": [
        "#Save the Model"
      ],
      "metadata": {
        "id": "5sPGoibcVHO_"
      }
    },
    {
      "cell_type": "code",
      "source": [
        "model.save(\"account_classification_model.h5\")\n",
        "joblib.dump(scaler, \"scaler.pkl\")"
      ],
      "metadata": {
        "colab": {
          "base_uri": "https://localhost:8080/"
        },
        "id": "NG-JlZRQUucP",
        "outputId": "6b8a1c4c-d0ef-4022-92c2-eac943b00544"
      },
      "execution_count": 23,
      "outputs": [
        {
          "output_type": "stream",
          "name": "stderr",
          "text": [
            "WARNING:absl:You are saving your model as an HDF5 file via `model.save()` or `keras.saving.save_model(model)`. This file format is considered legacy. We recommend using instead the native Keras format, e.g. `model.save('my_model.keras')` or `keras.saving.save_model(model, 'my_model.keras')`. \n"
          ]
        },
        {
          "output_type": "execute_result",
          "data": {
            "text/plain": [
              "['scaler.pkl']"
            ]
          },
          "metadata": {},
          "execution_count": 23
        }
      ]
    },
    {
      "cell_type": "code",
      "source": [
        "model = load_model(\"account_classification_model.h5\")\n",
        "scaler = joblib.load(\"scaler.pkl\")\n",
        "new_account = np.array([[150, 300, 8, 1, 12, 0, 0, 1, 0, 0, 0, 0]])\n",
        "\n",
        "new_data_scaled = scaler.transform(new_account)\n",
        "\n",
        "# Predict\n",
        "prediction = model.predict(new_data_scaled)\n",
        "predicted_label = int(prediction[0][0] > 0.5)\n",
        "print(\"Prediction score:\", prediction[0][0])\n",
        "print(\"Result:\", \"Fake (Reject)\" if predicted_label else \"Real (Accept)\")"
      ],
      "metadata": {
        "colab": {
          "base_uri": "https://localhost:8080/"
        },
        "id": "uIe2RlSqVZ9K",
        "outputId": "80dd238f-9896-4059-fc73-94321a400060"
      },
      "execution_count": 27,
      "outputs": [
        {
          "output_type": "stream",
          "name": "stderr",
          "text": [
            "WARNING:absl:Compiled the loaded model, but the compiled metrics have yet to be built. `model.compile_metrics` will be empty until you train or evaluate the model.\n",
            "/usr/local/lib/python3.11/dist-packages/sklearn/utils/validation.py:2739: UserWarning: X does not have valid feature names, but StandardScaler was fitted with feature names\n",
            "  warnings.warn(\n"
          ]
        },
        {
          "output_type": "stream",
          "name": "stdout",
          "text": [
            "\u001b[1m1/1\u001b[0m \u001b[32m━━━━━━━━━━━━━━━━━━━━\u001b[0m\u001b[37m\u001b[0m \u001b[1m0s\u001b[0m 192ms/step\n",
            "Prediction score: 0.0\n",
            "Result: Real (Accept)\n"
          ]
        }
      ]
    },
    {
      "cell_type": "code",
      "source": [],
      "metadata": {
        "id": "8bq87_PIVlOk"
      },
      "execution_count": null,
      "outputs": []
    }
  ]
}